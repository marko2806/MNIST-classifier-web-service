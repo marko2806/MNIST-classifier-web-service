{
  "cells": [
    {
      "cell_type": "markdown",
      "metadata": {
        "id": "fXX8LCP5bMts"
      },
      "source": [
        "# MNIST Classification using ResNet-18 network"
      ]
    },
    {
      "cell_type": "markdown",
      "metadata": {
        "id": "WWJdue0RbMty"
      },
      "source": [
        "### Importing neccessary libraries"
      ]
    },
    {
      "cell_type": "code",
      "execution_count": 15,
      "metadata": {
        "id": "wZK_hpU7bMtz"
      },
      "outputs": [],
      "source": [
        "import torch\n",
        "import torchvision\n",
        "import torchvision.transforms as transforms\n",
        "import torch.nn as nn\n",
        "import torch.optim as optim\n",
        "import matplotlib.pyplot as plt\n",
        "from sklearn.metrics import confusion_matrix, accuracy_score, precision_score, recall_score\n",
        "import seaborn as sn\n",
        "import pandas as pd\n",
        "import numpy as np"
      ]
    },
    {
      "cell_type": "code",
      "execution_count": 16,
      "metadata": {
        "id": "qyTHqslWbMt1"
      },
      "outputs": [],
      "source": [
        "DEVICE = 'cuda' if torch.cuda.is_available() else 'cpu'"
      ]
    },
    {
      "cell_type": "markdown",
      "metadata": {
        "id": "BqRDc5P_bMt2"
      },
      "source": [
        "### Preparing the dataset"
      ]
    },
    {
      "cell_type": "markdown",
      "metadata": {
        "id": "2pgkO8JKbMt2"
      },
      "source": [
        "For every image the following transformation is applied:\n",
        "- image is converted to tensor\n",
        "- image is randomly rotated by an angle between -10 and 10\n",
        "- image is normalized using mean equal 0.1307 and standard deviation 0.3081 (Mean and deviation are the calculated on all pixel values of train MNIST dataset)"
      ]
    },
    {
      "cell_type": "code",
      "execution_count": 17,
      "metadata": {
        "id": "siKky2dSbMt3"
      },
      "outputs": [],
      "source": [
        "transform = transforms.Compose([\n",
        "    transforms.ToTensor(),\n",
        "    transforms.RandomRotation((-10, 10)),\n",
        "    transforms.Normalize((0.1307,), (0.3081,))\n",
        "])"
      ]
    },
    {
      "cell_type": "code",
      "execution_count": 18,
      "metadata": {
        "id": "7_fAdAISbMt4"
      },
      "outputs": [],
      "source": [
        "# Load the MNIST dataset\n",
        "trainset = torchvision.datasets.MNIST(root='./data', train=True,\n",
        "                                        download=True, transform=transform)\n",
        "trainset, valset = torch.utils.data.random_split(trainset, [0.8, 0.2])\n",
        "trainloader = torch.utils.data.DataLoader(trainset, batch_size=128,\n",
        "                                            shuffle=True, num_workers=2)\n",
        "valloader = torch.utils.data.DataLoader(valset, batch_size=128, \n",
        "                                            shuffle=True, num_workers=2)\n",
        "testset = torchvision.datasets.MNIST(root='./data', train=False,\n",
        "                                        download=True, transform=transform)\n",
        "testloader = torch.utils.data.DataLoader(testset, batch_size=128,\n",
        "                                            shuffle=False, num_workers=2)"
      ]
    },
    {
      "cell_type": "markdown",
      "metadata": {
        "id": "3XT_Y85bbMt5"
      },
      "source": [
        "## Defining the model"
      ]
    },
    {
      "cell_type": "code",
      "execution_count": 23,
      "metadata": {
        "id": "gCx9NcZgbMt6"
      },
      "outputs": [],
      "source": [
        "class BasicBlock(nn.Module):\n",
        "    expansion = 1\n",
        "\n",
        "    def __init__(self, in_planes, planes, stride=1):\n",
        "        super(BasicBlock, self).__init__()\n",
        "        self.conv1 = nn.Conv2d(in_planes, planes, kernel_size=3, stride=stride, padding=1, bias=False)\n",
        "        self.bn1 = nn.BatchNorm2d(planes)\n",
        "        self.conv2 = nn.Conv2d(planes, planes, kernel_size=3, stride=1, padding=1, bias=False)\n",
        "        self.bn2 = nn.BatchNorm2d(planes)\n",
        "        self.relu1 = nn.ReLU()\n",
        "        self.relu2 = nn.ReLU()\n",
        "        self.shortcut = nn.Sequential()\n",
        "        if stride != 1 or in_planes != self.expansion*planes:\n",
        "            self.shortcut = nn.Sequential(\n",
        "                nn.Conv2d(in_planes, self.expansion*planes, kernel_size=1, stride=stride, bias=False),\n",
        "                nn.BatchNorm2d(self.expansion*planes)\n",
        "            )\n",
        "\n",
        "    def forward(self, x):\n",
        "        out = self.relu1(self.bn1(self.conv1(x)))\n",
        "        out = self.bn2(self.conv2(out))\n",
        "        out += self.shortcut(x)\n",
        "        out = self.relu2(out)\n",
        "        return out\n",
        "\n",
        "\n",
        "class ResNet(nn.Module):\n",
        "    def __init__(self, block, num_blocks, num_classes=10):\n",
        "        super(ResNet, self).__init__()\n",
        "        self.in_planes = 64\n",
        "\n",
        "        self.conv1 = nn.Conv2d(1, 64, kernel_size=3, stride=1, padding=1, bias=False)\n",
        "        self.bn1 = nn.BatchNorm2d(64)\n",
        "        self.layer1 = self._make_layer(block, 64, num_blocks[0], stride=1)\n",
        "        self.layer2 = self._make_layer(block, 128, num_blocks[1], stride=2)\n",
        "        self.layer3 = self._make_layer(block, 256, num_blocks[2], stride=2)\n",
        "        self.layer4 = self._make_layer(block, 512, num_blocks[3], stride=2)\n",
        "        self.linear = nn.Linear(512*block.expansion, num_classes)\n",
        "        self.relu = nn.ReLU()\n",
        "        self.adapool = nn.AdaptiveAvgPool2d((1, 1))\n",
        "        self.sigmoid = nn.Sigmoid()\n",
        "\n",
        "    def _make_layer(self, block, planes, num_blocks, stride):\n",
        "        strides = [stride] + [1]*(num_blocks-1)\n",
        "        layers = []\n",
        "        for stride in strides:\n",
        "            layers.append(block(self.in_planes, planes, stride))\n",
        "            self.in_planes = planes * block.expansion\n",
        "        return nn.Sequential(*layers)\n",
        "\n",
        "    def forward(self, x):\n",
        "        out = self.relu(self.bn1(self.conv1(x)))\n",
        "        out = self.layer1(out)\n",
        "        out = self.layer2(out)\n",
        "        out = self.layer3(out)\n",
        "        out = self.layer4(out)\n",
        "        out = self.adapool(out)\n",
        "        out = out.view(out.size(0), -1)\n",
        "        out = self.linear(out)\n",
        "        out = self.sigmoid(out)\n",
        "        return out\n",
        "\n",
        "\n",
        "def resnet18(num_classes=10):\n",
        "    return ResNet(BasicBlock, [2, 2, 2, 2], num_classes=num_classes)"
      ]
    },
    {
      "cell_type": "markdown",
      "metadata": {
        "id": "mJL_QB_6bMt7"
      },
      "source": [
        "## Defining evaluation metrics"
      ]
    },
    {
      "cell_type": "code",
      "execution_count": 28,
      "metadata": {
        "id": "5nxN_2SqbMt8"
      },
      "outputs": [],
      "source": [
        "CLASSES = ['0', '1', '2', '3', '4', '5', '6', '7', '8', '9']\n",
        "\n",
        "def get_accuracy(y_true, y_pred):\n",
        "    return accuracy_score(y_true, y_pred)\n",
        "\n",
        "def get_precision(y_true, y_pred):\n",
        "    return precision_score(y_true, y_pred, average=\"macro\")\n",
        "\n",
        "def get_recall(y_true, y_pred):\n",
        "    return recall_score(y_true, y_pred, average=\"macro\")\n",
        "\n",
        "def build_confusion_matrix(y_true, y_pred):\n",
        "    # Build confusion matrix\n",
        "    cf_matrix = confusion_matrix(y_true, y_pred)\n",
        "    df_cm = pd.DataFrame(cf_matrix, index = [i for i in CLASSES],\n",
        "                        columns = [i for i in CLASSES])\n",
        "    return df_cm\n",
        "\n",
        "\n",
        "def plot_confusion_matrix(confusion_matrix_dataframe):\n",
        "    plt.figure(figsize = (12,7))\n",
        "    sn.heatmap(confusion_matrix_dataframe, annot=True)\n",
        "    plt.show()"
      ]
    },
    {
      "cell_type": "markdown",
      "metadata": {
        "id": "t6JpIZr2bMt8"
      },
      "source": [
        "# Training"
      ]
    },
    {
      "cell_type": "code",
      "execution_count": 30,
      "metadata": {
        "colab": {
          "base_uri": "https://localhost:8080/"
        },
        "id": "68mWfe5xbMt8",
        "outputId": "1e4048dc-dc29-4a39-ef58-bd0771246b79"
      },
      "outputs": [
        {
          "output_type": "stream",
          "name": "stdout",
          "text": [
            "Epoch 1 loss: 1.579\n",
            "Validation set metrics:\n",
            "Accuracy: 97.98%\n",
            "Precision: 98.01%\n",
            "Recall: 97.93%\n",
            "\n",
            "Epoch 2 loss: 1.477\n",
            "Validation set metrics:\n",
            "Accuracy: 98.82%\n",
            "Precision: 98.81%\n",
            "Recall: 98.81%\n",
            "\n",
            "Epoch 3 loss: 1.472\n",
            "Validation set metrics:\n",
            "Accuracy: 98.76%\n",
            "Precision: 98.78%\n",
            "Recall: 98.72%\n",
            "\n",
            "Epoch 4 loss: 1.469\n",
            "Validation set metrics:\n",
            "Accuracy: 98.88%\n",
            "Precision: 98.88%\n",
            "Recall: 98.85%\n",
            "\n",
            "Epoch 5 loss: 1.467\n",
            "Validation set metrics:\n",
            "Accuracy: 98.58%\n",
            "Precision: 98.59%\n",
            "Recall: 98.55%\n",
            "\n",
            "Epoch 6 loss: 1.466\n",
            "Validation set metrics:\n",
            "Accuracy: 99.03%\n",
            "Precision: 99.03%\n",
            "Recall: 99.02%\n",
            "\n",
            "Epoch 7 loss: 1.466\n",
            "Validation set metrics:\n",
            "Accuracy: 99.12%\n",
            "Precision: 99.12%\n",
            "Recall: 99.10%\n",
            "\n",
            "Epoch 8 loss: 1.465\n",
            "Validation set metrics:\n",
            "Accuracy: 99.13%\n",
            "Precision: 99.14%\n",
            "Recall: 99.12%\n",
            "\n",
            "Epoch 9 loss: 1.464\n",
            "Validation set metrics:\n",
            "Accuracy: 99.12%\n",
            "Precision: 99.12%\n",
            "Recall: 99.11%\n",
            "\n",
            "Epoch 10 loss: 1.464\n",
            "Validation set metrics:\n",
            "Accuracy: 99.15%\n",
            "Precision: 99.15%\n",
            "Recall: 99.14%\n",
            "\n"
          ]
        }
      ],
      "source": [
        "# Define the ResNet16 model\n",
        "model = resnet18().to(device=DEVICE)\n",
        "\n",
        "# Define the loss function and optimizer\n",
        "criterion = nn.CrossEntropyLoss()\n",
        "optimizer = optim.SGD(model.parameters(), lr=0.01, momentum=0.9)\n",
        "\n",
        "max_val_accuracy = None\n",
        "\n",
        "# Train the model\n",
        "for epoch in range(10):\n",
        "    running_loss = 0.0\n",
        "    model.train()\n",
        "    for i, data in enumerate(trainloader, 0):\n",
        "        inputs, labels = data\n",
        "        inputs = inputs.to(device=DEVICE)\n",
        "        labels = labels.to(device=DEVICE)\n",
        "        optimizer.zero_grad()\n",
        "        outputs = model(inputs)\n",
        "        loss = criterion(outputs, labels)\n",
        "        loss.backward()\n",
        "        optimizer.step()\n",
        "        running_loss += loss.item()\n",
        "\n",
        "    print('Epoch %d loss: %.3f' % (epoch + 1, running_loss / len(trainloader)))\n",
        "    \n",
        "    # Evaluate model after every epoch on validation set\n",
        "    model.eval()\n",
        "    with torch.no_grad():\n",
        "        y_true = []\n",
        "        y_pred = []\n",
        "        with torch.no_grad():\n",
        "            for data in valloader:\n",
        "                images, labels = data\n",
        "                images = images.to(device=DEVICE)\n",
        "                labels = labels.to(device=DEVICE)\n",
        "                outputs = model(images)\n",
        "                _, predicted = torch.max(outputs.data, 1)\n",
        "                \n",
        "                output = (torch.max(torch.exp(outputs), 1)[1]).data.cpu().numpy()\n",
        "                y_pred.extend(output)\n",
        "\n",
        "                labels = labels.data.cpu().numpy()\n",
        "                y_true.extend(labels)\n",
        "\n",
        "        print(\"Validation set metrics:\")\n",
        "        print('Accuracy: %.2f%%' % (100 * get_accuracy(y_true, y_pred)))\n",
        "        print('Precision: %.2f%%' % (100 * get_precision(y_true, y_pred)))\n",
        "        print('Recall: %.2f%%' % (100 * get_recall(y_true, y_pred)))\n",
        "        print()\n",
        "        # if the model has the highest accuracy on validation set save it\n",
        "        if max_val_accuracy is None or max_val_accuracy < get_accuracy(y_true, y_pred):\n",
        "          max_val_accuracy = get_accuracy(y_true, y_pred)\n",
        "          compiled_model = torch.jit.script(model)\n",
        "          compiled_model.save(\"model.pt\")"
      ]
    },
    {
      "cell_type": "markdown",
      "metadata": {
        "id": "3zo-X7hYbMt-"
      },
      "source": [
        "## Testing"
      ]
    },
    {
      "cell_type": "code",
      "execution_count": 31,
      "metadata": {
        "colab": {
          "base_uri": "https://localhost:8080/",
          "height": 497
        },
        "id": "DjyHkrrLbMt-",
        "outputId": "ecbae91d-c9a8-49d9-a144-57dccac468ec"
      },
      "outputs": [
        {
          "output_type": "stream",
          "name": "stdout",
          "text": [
            "Validation set metrics:\n",
            "Accuracy: 99.44%\n",
            "Precision: 99.45%\n",
            "Recall: 99.42%\n"
          ]
        },
        {
          "output_type": "display_data",
          "data": {
            "text/plain": [
              "<Figure size 864x504 with 2 Axes>"
            ],
            "image/png": "[encoded data removed]"
          },
          "metadata": {
            "needs_background": "light"
          }
        }
      ],
      "source": [
        "model = torch.jit.load(\"model.pt\", map_location=DEVICE)\n",
        "model.eval()\n",
        "with torch.no_grad():\n",
        "    y_true = []\n",
        "    y_pred = []\n",
        "    with torch.no_grad():\n",
        "        for data in testloader:\n",
        "            images, labels = data\n",
        "            images = images.to(device=DEVICE)\n",
        "            labels = labels.to(device=DEVICE)\n",
        "            outputs = model(images)\n",
        "            _, predicted = torch.max(outputs.data, 1)\n",
        "            \n",
        "            output = (torch.max(torch.exp(outputs), 1)[1]).data.cpu().numpy()\n",
        "            y_pred.extend(output)\n",
        "\n",
        "            labels = labels.data.cpu().numpy()\n",
        "            y_true.extend(labels)\n",
        "\n",
        "    print(\"Validation set metrics:\")\n",
        "    print('Accuracy: %.2f%%' % (100 * get_accuracy(y_true, y_pred)))\n",
        "    print('Precision: %.2f%%' % (100 * get_precision(y_true, y_pred)))\n",
        "    print('Recall: %.2f%%' % (100 * get_recall(y_true, y_pred)))\n",
        "\n",
        "cm = build_confusion_matrix(y_true, y_pred)\n",
        "plot_confusion_matrix(cm)\n"
      ]
    },
    {
      "cell_type": "code",
      "source": [],
      "metadata": {
        "id": "7FYLHZ4Zluyr"
      },
      "execution_count": null,
      "outputs": []
    }
  ],
  "metadata": {
    "kernelspec": {
      "display_name": "dubuce2",
      "language": "python",
      "name": "python3"
    },
    "language_info": {
      "codemirror_mode": {
        "name": "ipython",
        "version": 3
      },
      "file_extension": ".py",
      "mimetype": "text/x-python",
      "name": "python",
      "nbconvert_exporter": "python",
      "pygments_lexer": "ipython3",
      "version": "3.10.8"
    },
    "orig_nbformat": 4,
    "vscode": {
      "interpreter": {
        "hash": "3f0eb11acfe3e06249e7251e3409fe423bd6100deff7dea7bdaf5bd627b68a86"
      }
    },
    "colab": {
      "provenance": []
    },
    "accelerator": "GPU",
    "gpuClass": "premium"
  },
  "nbformat": 4,
  "nbformat_minor": 0
}