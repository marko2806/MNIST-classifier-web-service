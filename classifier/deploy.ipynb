{
 "cells": [
  {
   "cell_type": "code",
   "execution_count": 1,
   "metadata": {},
   "outputs": [],
   "source": [
    "import tarfile\n",
    "from sagemaker.pytorch import PyTorchModel\n",
    "from sagemaker import get_execution_role"
   ]
  },
  {
   "attachments": {},
   "cell_type": "markdown",
   "metadata": {},
   "source": [
    "### Creating tar.gz file for deployment"
   ]
  },
  {
   "cell_type": "code",
   "execution_count": 2,
   "metadata": {},
   "outputs": [
    {
     "name": "stdout",
     "output_type": "stream",
     "text": [
      "model.tar.gz has been created successfully.\n"
     ]
    }
   ],
   "source": [
    "archive_name = 'model.tar.gz'\n",
    "files_to_archive = [\n",
    "    'model.pt',\n",
    "    'code/inference.py',\n",
    "    'code/model.py',\n",
    "    'code/requirements.txt'\n",
    "]\n",
    "\n",
    "with tarfile.open(archive_name, \"w:gz\") as tar:\n",
    "    for file in files_to_archive:\n",
    "        # Add each file to the archive\n",
    "        tar.add(file)\n",
    "        \n",
    "print(f\"{archive_name} has been created successfully.\")"
   ]
  },
  {
   "attachments": {},
   "cell_type": "markdown",
   "metadata": {},
   "source": [
    "### Copying tar.gz file to s3 bucket"
   ]
  },
  {
   "cell_type": "code",
   "execution_count": 3,
   "metadata": {},
   "outputs": [
    {
     "name": "stdout",
     "output_type": "stream",
     "text": [
      "Completed 256.0 KiB/39.4 MiB (285.1 KiB/s) with 1 file(s) remaining\n",
      "Completed 512.0 KiB/39.4 MiB (496.2 KiB/s) with 1 file(s) remaining\n",
      "Completed 768.0 KiB/39.4 MiB (724.7 KiB/s) with 1 file(s) remaining\n",
      "Completed 1.0 MiB/39.4 MiB (951.0 KiB/s) with 1 file(s) remaining  \n",
      "Completed 1.2 MiB/39.4 MiB (1.1 MiB/s) with 1 file(s) remaining    \n",
      "Completed 1.5 MiB/39.4 MiB (1.4 MiB/s) with 1 file(s) remaining    \n",
      "Completed 1.8 MiB/39.4 MiB (1.4 MiB/s) with 1 file(s) remaining    \n",
      "Completed 2.0 MiB/39.4 MiB (1.6 MiB/s) with 1 file(s) remaining    \n",
      "Completed 2.2 MiB/39.4 MiB (1.8 MiB/s) with 1 file(s) remaining    \n",
      "Completed 2.5 MiB/39.4 MiB (1.9 MiB/s) with 1 file(s) remaining    \n",
      "Completed 2.8 MiB/39.4 MiB (2.1 MiB/s) with 1 file(s) remaining    \n",
      "Completed 3.0 MiB/39.4 MiB (2.1 MiB/s) with 1 file(s) remaining    \n",
      "Completed 3.2 MiB/39.4 MiB (2.2 MiB/s) with 1 file(s) remaining    \n",
      "Completed 3.5 MiB/39.4 MiB (2.4 MiB/s) with 1 file(s) remaining    \n",
      "Completed 3.8 MiB/39.4 MiB (2.5 MiB/s) with 1 file(s) remaining    \n",
      "Completed 4.0 MiB/39.4 MiB (2.6 MiB/s) with 1 file(s) remaining    \n",
      "Completed 4.2 MiB/39.4 MiB (2.6 MiB/s) with 1 file(s) remaining    \n",
      "Completed 4.5 MiB/39.4 MiB (2.6 MiB/s) with 1 file(s) remaining    \n",
      "Completed 4.8 MiB/39.4 MiB (2.8 MiB/s) with 1 file(s) remaining    \n",
      "Completed 5.0 MiB/39.4 MiB (2.9 MiB/s) with 1 file(s) remaining    \n",
      "Completed 5.2 MiB/39.4 MiB (3.0 MiB/s) with 1 file(s) remaining    \n",
      "Completed 5.5 MiB/39.4 MiB (3.0 MiB/s) with 1 file(s) remaining    \n",
      "Completed 5.8 MiB/39.4 MiB (3.0 MiB/s) with 1 file(s) remaining    \n",
      "Completed 6.0 MiB/39.4 MiB (3.1 MiB/s) with 1 file(s) remaining    \n",
      "Completed 6.2 MiB/39.4 MiB (3.2 MiB/s) with 1 file(s) remaining    \n",
      "Completed 6.5 MiB/39.4 MiB (3.3 MiB/s) with 1 file(s) remaining    \n",
      "Completed 6.8 MiB/39.4 MiB (3.3 MiB/s) with 1 file(s) remaining    \n",
      "Completed 7.0 MiB/39.4 MiB (3.3 MiB/s) with 1 file(s) remaining    \n",
      "Completed 7.2 MiB/39.4 MiB (3.4 MiB/s) with 1 file(s) remaining    \n",
      "Completed 7.5 MiB/39.4 MiB (3.5 MiB/s) with 1 file(s) remaining    \n",
      "Completed 7.8 MiB/39.4 MiB (3.6 MiB/s) with 1 file(s) remaining    \n",
      "Completed 8.0 MiB/39.4 MiB (3.5 MiB/s) with 1 file(s) remaining    \n",
      "Completed 8.2 MiB/39.4 MiB (3.6 MiB/s) with 1 file(s) remaining    \n",
      "Completed 8.5 MiB/39.4 MiB (3.7 MiB/s) with 1 file(s) remaining    \n",
      "Completed 8.8 MiB/39.4 MiB (3.7 MiB/s) with 1 file(s) remaining    \n",
      "Completed 9.0 MiB/39.4 MiB (3.8 MiB/s) with 1 file(s) remaining    \n",
      "Completed 9.2 MiB/39.4 MiB (3.7 MiB/s) with 1 file(s) remaining    \n",
      "Completed 9.5 MiB/39.4 MiB (3.8 MiB/s) with 1 file(s) remaining    \n",
      "Completed 9.8 MiB/39.4 MiB (3.8 MiB/s) with 1 file(s) remaining    \n",
      "Completed 10.0 MiB/39.4 MiB (3.9 MiB/s) with 1 file(s) remaining   \n",
      "Completed 10.2 MiB/39.4 MiB (4.0 MiB/s) with 1 file(s) remaining   \n",
      "Completed 10.5 MiB/39.4 MiB (3.9 MiB/s) with 1 file(s) remaining   \n",
      "Completed 10.8 MiB/39.4 MiB (3.9 MiB/s) with 1 file(s) remaining   \n",
      "Completed 11.0 MiB/39.4 MiB (4.0 MiB/s) with 1 file(s) remaining   \n",
      "Completed 11.2 MiB/39.4 MiB (4.1 MiB/s) with 1 file(s) remaining   \n",
      "Completed 11.5 MiB/39.4 MiB (4.1 MiB/s) with 1 file(s) remaining   \n",
      "Completed 11.8 MiB/39.4 MiB (4.1 MiB/s) with 1 file(s) remaining   \n",
      "Completed 12.0 MiB/39.4 MiB (4.1 MiB/s) with 1 file(s) remaining   \n",
      "Completed 12.2 MiB/39.4 MiB (4.2 MiB/s) with 1 file(s) remaining   \n",
      "Completed 12.5 MiB/39.4 MiB (4.2 MiB/s) with 1 file(s) remaining   \n",
      "Completed 12.8 MiB/39.4 MiB (4.2 MiB/s) with 1 file(s) remaining   \n",
      "Completed 13.0 MiB/39.4 MiB (4.2 MiB/s) with 1 file(s) remaining   \n",
      "Completed 13.2 MiB/39.4 MiB (4.2 MiB/s) with 1 file(s) remaining   \n",
      "Completed 13.5 MiB/39.4 MiB (4.3 MiB/s) with 1 file(s) remaining   \n",
      "Completed 13.8 MiB/39.4 MiB (4.3 MiB/s) with 1 file(s) remaining   \n",
      "Completed 14.0 MiB/39.4 MiB (4.4 MiB/s) with 1 file(s) remaining   \n",
      "Completed 14.2 MiB/39.4 MiB (4.3 MiB/s) with 1 file(s) remaining   \n",
      "Completed 14.5 MiB/39.4 MiB (4.3 MiB/s) with 1 file(s) remaining   \n",
      "Completed 14.8 MiB/39.4 MiB (4.4 MiB/s) with 1 file(s) remaining   \n",
      "Completed 15.0 MiB/39.4 MiB (4.4 MiB/s) with 1 file(s) remaining   \n",
      "Completed 15.2 MiB/39.4 MiB (4.5 MiB/s) with 1 file(s) remaining   \n",
      "Completed 15.5 MiB/39.4 MiB (4.4 MiB/s) with 1 file(s) remaining   \n",
      "Completed 15.8 MiB/39.4 MiB (4.4 MiB/s) with 1 file(s) remaining   \n",
      "Completed 16.0 MiB/39.4 MiB (4.5 MiB/s) with 1 file(s) remaining   \n",
      "Completed 16.2 MiB/39.4 MiB (4.5 MiB/s) with 1 file(s) remaining   \n",
      "Completed 16.5 MiB/39.4 MiB (4.5 MiB/s) with 1 file(s) remaining   \n",
      "Completed 16.8 MiB/39.4 MiB (4.5 MiB/s) with 1 file(s) remaining   \n",
      "Completed 17.0 MiB/39.4 MiB (4.5 MiB/s) with 1 file(s) remaining   \n",
      "Completed 17.2 MiB/39.4 MiB (4.6 MiB/s) with 1 file(s) remaining   \n",
      "Completed 17.5 MiB/39.4 MiB (4.6 MiB/s) with 1 file(s) remaining   \n",
      "Completed 17.8 MiB/39.4 MiB (4.6 MiB/s) with 1 file(s) remaining   \n",
      "Completed 18.0 MiB/39.4 MiB (4.6 MiB/s) with 1 file(s) remaining   \n",
      "Completed 18.2 MiB/39.4 MiB (4.6 MiB/s) with 1 file(s) remaining   \n",
      "Completed 18.5 MiB/39.4 MiB (4.6 MiB/s) with 1 file(s) remaining   \n",
      "Completed 18.8 MiB/39.4 MiB (4.6 MiB/s) with 1 file(s) remaining   \n",
      "Completed 19.0 MiB/39.4 MiB (4.7 MiB/s) with 1 file(s) remaining   \n",
      "Completed 19.2 MiB/39.4 MiB (4.7 MiB/s) with 1 file(s) remaining   \n",
      "Completed 19.5 MiB/39.4 MiB (4.7 MiB/s) with 1 file(s) remaining   \n",
      "Completed 19.8 MiB/39.4 MiB (4.7 MiB/s) with 1 file(s) remaining   \n",
      "Completed 20.0 MiB/39.4 MiB (4.7 MiB/s) with 1 file(s) remaining   \n",
      "Completed 20.2 MiB/39.4 MiB (4.8 MiB/s) with 1 file(s) remaining   \n",
      "Completed 20.5 MiB/39.4 MiB (4.7 MiB/s) with 1 file(s) remaining   \n",
      "Completed 20.8 MiB/39.4 MiB (4.7 MiB/s) with 1 file(s) remaining   \n",
      "Completed 21.0 MiB/39.4 MiB (4.8 MiB/s) with 1 file(s) remaining   \n",
      "Completed 21.2 MiB/39.4 MiB (4.8 MiB/s) with 1 file(s) remaining   \n",
      "Completed 21.5 MiB/39.4 MiB (4.8 MiB/s) with 1 file(s) remaining   \n",
      "Completed 21.8 MiB/39.4 MiB (4.8 MiB/s) with 1 file(s) remaining   \n",
      "Completed 22.0 MiB/39.4 MiB (4.8 MiB/s) with 1 file(s) remaining   \n",
      "Completed 22.2 MiB/39.4 MiB (4.8 MiB/s) with 1 file(s) remaining   \n",
      "Completed 22.5 MiB/39.4 MiB (4.8 MiB/s) with 1 file(s) remaining   \n",
      "Completed 22.8 MiB/39.4 MiB (4.9 MiB/s) with 1 file(s) remaining   \n",
      "Completed 23.0 MiB/39.4 MiB (4.9 MiB/s) with 1 file(s) remaining   \n",
      "Completed 23.2 MiB/39.4 MiB (4.8 MiB/s) with 1 file(s) remaining   \n",
      "Completed 23.5 MiB/39.4 MiB (4.9 MiB/s) with 1 file(s) remaining   \n",
      "Completed 23.8 MiB/39.4 MiB (4.9 MiB/s) with 1 file(s) remaining   \n",
      "Completed 24.0 MiB/39.4 MiB (4.9 MiB/s) with 1 file(s) remaining   \n",
      "Completed 24.2 MiB/39.4 MiB (4.9 MiB/s) with 1 file(s) remaining   \n",
      "Completed 24.5 MiB/39.4 MiB (4.9 MiB/s) with 1 file(s) remaining   \n",
      "Completed 24.8 MiB/39.4 MiB (4.9 MiB/s) with 1 file(s) remaining   \n",
      "Completed 25.0 MiB/39.4 MiB (4.9 MiB/s) with 1 file(s) remaining   \n",
      "Completed 25.2 MiB/39.4 MiB (5.0 MiB/s) with 1 file(s) remaining   \n",
      "Completed 25.5 MiB/39.4 MiB (5.0 MiB/s) with 1 file(s) remaining   \n",
      "Completed 25.8 MiB/39.4 MiB (4.9 MiB/s) with 1 file(s) remaining   \n",
      "Completed 26.0 MiB/39.4 MiB (5.0 MiB/s) with 1 file(s) remaining   \n",
      "Completed 26.2 MiB/39.4 MiB (5.0 MiB/s) with 1 file(s) remaining   \n",
      "Completed 26.5 MiB/39.4 MiB (5.0 MiB/s) with 1 file(s) remaining   \n",
      "Completed 26.8 MiB/39.4 MiB (5.0 MiB/s) with 1 file(s) remaining   \n",
      "Completed 27.0 MiB/39.4 MiB (5.0 MiB/s) with 1 file(s) remaining   \n",
      "Completed 27.2 MiB/39.4 MiB (5.0 MiB/s) with 1 file(s) remaining   \n",
      "Completed 27.5 MiB/39.4 MiB (5.0 MiB/s) with 1 file(s) remaining   \n",
      "Completed 27.8 MiB/39.4 MiB (5.0 MiB/s) with 1 file(s) remaining   \n",
      "Completed 28.0 MiB/39.4 MiB (5.1 MiB/s) with 1 file(s) remaining   \n",
      "Completed 28.2 MiB/39.4 MiB (5.0 MiB/s) with 1 file(s) remaining   \n",
      "Completed 28.5 MiB/39.4 MiB (5.0 MiB/s) with 1 file(s) remaining   \n",
      "Completed 28.8 MiB/39.4 MiB (5.0 MiB/s) with 1 file(s) remaining   \n",
      "Completed 29.0 MiB/39.4 MiB (5.1 MiB/s) with 1 file(s) remaining   \n",
      "Completed 29.2 MiB/39.4 MiB (5.1 MiB/s) with 1 file(s) remaining   \n",
      "Completed 29.5 MiB/39.4 MiB (5.0 MiB/s) with 1 file(s) remaining   \n",
      "Completed 29.8 MiB/39.4 MiB (5.1 MiB/s) with 1 file(s) remaining   \n",
      "Completed 30.0 MiB/39.4 MiB (5.1 MiB/s) with 1 file(s) remaining   \n",
      "Completed 30.2 MiB/39.4 MiB (5.1 MiB/s) with 1 file(s) remaining   \n",
      "Completed 30.5 MiB/39.4 MiB (5.1 MiB/s) with 1 file(s) remaining   \n",
      "Completed 30.8 MiB/39.4 MiB (5.1 MiB/s) with 1 file(s) remaining   \n",
      "Completed 31.0 MiB/39.4 MiB (5.1 MiB/s) with 1 file(s) remaining   \n",
      "Completed 31.2 MiB/39.4 MiB (5.1 MiB/s) with 1 file(s) remaining   \n",
      "Completed 31.5 MiB/39.4 MiB (5.1 MiB/s) with 1 file(s) remaining   \n",
      "Completed 31.8 MiB/39.4 MiB (5.2 MiB/s) with 1 file(s) remaining   \n",
      "Completed 32.0 MiB/39.4 MiB (5.1 MiB/s) with 1 file(s) remaining   \n",
      "Completed 32.2 MiB/39.4 MiB (5.1 MiB/s) with 1 file(s) remaining   \n",
      "Completed 32.5 MiB/39.4 MiB (5.2 MiB/s) with 1 file(s) remaining   \n",
      "Completed 32.8 MiB/39.4 MiB (5.2 MiB/s) with 1 file(s) remaining   \n",
      "Completed 33.0 MiB/39.4 MiB (5.2 MiB/s) with 1 file(s) remaining   \n",
      "Completed 33.2 MiB/39.4 MiB (5.1 MiB/s) with 1 file(s) remaining   \n",
      "Completed 33.5 MiB/39.4 MiB (5.1 MiB/s) with 1 file(s) remaining   \n",
      "Completed 33.8 MiB/39.4 MiB (5.2 MiB/s) with 1 file(s) remaining   \n",
      "Completed 34.0 MiB/39.4 MiB (5.2 MiB/s) with 1 file(s) remaining   \n",
      "Completed 34.2 MiB/39.4 MiB (5.2 MiB/s) with 1 file(s) remaining   \n",
      "Completed 34.5 MiB/39.4 MiB (5.2 MiB/s) with 1 file(s) remaining   \n",
      "Completed 34.8 MiB/39.4 MiB (5.2 MiB/s) with 1 file(s) remaining   \n",
      "Completed 35.0 MiB/39.4 MiB (5.2 MiB/s) with 1 file(s) remaining   \n",
      "Completed 35.2 MiB/39.4 MiB (5.2 MiB/s) with 1 file(s) remaining   \n",
      "Completed 35.5 MiB/39.4 MiB (5.3 MiB/s) with 1 file(s) remaining   \n",
      "Completed 35.8 MiB/39.4 MiB (5.2 MiB/s) with 1 file(s) remaining   \n",
      "Completed 36.0 MiB/39.4 MiB (5.2 MiB/s) with 1 file(s) remaining   \n",
      "Completed 36.2 MiB/39.4 MiB (5.2 MiB/s) with 1 file(s) remaining   \n",
      "Completed 36.5 MiB/39.4 MiB (5.3 MiB/s) with 1 file(s) remaining   \n",
      "Completed 36.8 MiB/39.4 MiB (5.3 MiB/s) with 1 file(s) remaining   \n",
      "Completed 37.0 MiB/39.4 MiB (5.2 MiB/s) with 1 file(s) remaining   \n",
      "Completed 37.2 MiB/39.4 MiB (5.2 MiB/s) with 1 file(s) remaining   \n",
      "Completed 37.5 MiB/39.4 MiB (5.3 MiB/s) with 1 file(s) remaining   \n",
      "Completed 37.8 MiB/39.4 MiB (5.3 MiB/s) with 1 file(s) remaining   \n",
      "Completed 37.9 MiB/39.4 MiB (5.3 MiB/s) with 1 file(s) remaining   \n",
      "Completed 38.1 MiB/39.4 MiB (5.3 MiB/s) with 1 file(s) remaining   \n",
      "Completed 38.4 MiB/39.4 MiB (5.3 MiB/s) with 1 file(s) remaining   \n",
      "Completed 38.6 MiB/39.4 MiB (5.3 MiB/s) with 1 file(s) remaining   \n",
      "Completed 38.9 MiB/39.4 MiB (5.3 MiB/s) with 1 file(s) remaining   \n",
      "Completed 39.1 MiB/39.4 MiB (5.3 MiB/s) with 1 file(s) remaining   \n",
      "Completed 39.4 MiB/39.4 MiB (5.3 MiB/s) with 1 file(s) remaining   \n",
      "upload: .\\model.tar.gz to s3://mnist-resnet-sagemaker/model.tar.gz \n"
     ]
    }
   ],
   "source": [
    "!aws s3 cp ./model.tar.gz s3://mnist-resnet-sagemaker"
   ]
  },
  {
   "attachments": {},
   "cell_type": "markdown",
   "metadata": {},
   "source": [
    "### Creating and deploying model using SageMaker service"
   ]
  },
  {
   "cell_type": "code",
   "execution_count": 5,
   "metadata": {},
   "outputs": [
    {
     "name": "stdout",
     "output_type": "stream",
     "text": [
      "-------!"
     ]
    }
   ],
   "source": [
    "role = \"sagemaker-iam-role\"\n",
    "pytorch_model = PyTorchModel(model_data='s3://mnist-resnet-sagemaker/model.tar.gz', \n",
    "                             role=role, \n",
    "                             entry_point='inference.py', \n",
    "                             framework_version='1.13.1', \n",
    "                             py_version='py39')\n",
    "predictor = pytorch_model.deploy(instance_type='ml.t2.large', initial_instance_count=1)"
   ]
  }
 ],
 "metadata": {
  "kernelspec": {
   "display_name": "dubuce2",
   "language": "python",
   "name": "python3"
  },
  "language_info": {
   "codemirror_mode": {
    "name": "ipython",
    "version": 3
   },
   "file_extension": ".py",
   "mimetype": "text/x-python",
   "name": "python",
   "nbconvert_exporter": "python",
   "pygments_lexer": "ipython3",
   "version": "3.10.8"
  },
  "orig_nbformat": 4,
  "vscode": {
   "interpreter": {
    "hash": "3f0eb11acfe3e06249e7251e3409fe423bd6100deff7dea7bdaf5bd627b68a86"
   }
  }
 },
 "nbformat": 4,
 "nbformat_minor": 2
}
