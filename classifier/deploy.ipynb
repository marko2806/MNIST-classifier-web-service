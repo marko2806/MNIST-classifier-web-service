{
 "cells": [
  {
   "cell_type": "code",
   "execution_count": 1,
   "metadata": {},
   "outputs": [],
   "source": [
    "import tarfile\n",
    "from sagemaker.pytorch import PyTorchModel\n",
    "from sagemaker import get_execution_role"
   ]
  },
  {
   "attachments": {},
   "cell_type": "markdown",
   "metadata": {},
   "source": [
    "### Creating tar.gz file for deployment"
   ]
  },
  {
   "cell_type": "code",
   "execution_count": 2,
   "metadata": {},
   "outputs": [
    {
     "name": "stdout",
     "output_type": "stream",
     "text": [
      "model.tar.gz has been created successfully.\n"
     ]
    }
   ],
   "source": [
    "archive_name = 'model.tar.gz'\n",
    "files_to_archive = [\n",
    "    'model.pt',\n",
    "    'code/inference.py',\n",
    "    'code/model.py',\n",
    "    'code/requirements.txt'\n",
    "]\n",
    "\n",
    "with tarfile.open(archive_name, \"w:gz\") as tar:\n",
    "    for file in files_to_archive:\n",
    "        # Add each file to the archive\n",
    "        tar.add(file)\n",
    "        \n",
    "print(f\"{archive_name} has been created successfully.\")"
   ]
  },
  {
   "attachments": {},
   "cell_type": "markdown",
   "metadata": {},
   "source": [
    "### Copying tar.gz file to s3 bucket"
   ]
  },
  {
   "cell_type": "code",
   "execution_count": null,
   "metadata": {},
   "outputs": [],
   "source": [
    "!aws s3 cp ./model.tar.gz s3://mnist-resnet-sagemaker"
   ]
  },
  {
   "attachments": {},
   "cell_type": "markdown",
   "metadata": {},
   "source": [
    "### Creating and deploying model using SageMaker service"
   ]
  },
  {
   "cell_type": "code",
   "execution_count": 26,
   "metadata": {},
   "outputs": [
    {
     "name": "stdout",
     "output_type": "stream",
     "text": [
      "-------!"
     ]
    }
   ],
   "source": [
    "role = \"sagemaker-iam-role\"\n",
    "pytorch_model = PyTorchModel(model_data='s3://mnist-resnet-sagemaker/model.tar.gz', \n",
    "                             role=role, \n",
    "                             entry_point='inference.py', \n",
    "                             framework_version='1.13.1', \n",
    "                             py_version='py39')\n",
    "predictor = pytorch_model.deploy(instance_type='ml.t2.large', initial_instance_count=1)"
   ]
  }
 ],
 "metadata": {
  "kernelspec": {
   "display_name": "dubuce2",
   "language": "python",
   "name": "python3"
  },
  "language_info": {
   "codemirror_mode": {
    "name": "ipython",
    "version": 3
   },
   "file_extension": ".py",
   "mimetype": "text/x-python",
   "name": "python",
   "nbconvert_exporter": "python",
   "pygments_lexer": "ipython3",
   "version": "3.10.8"
  },
  "orig_nbformat": 4,
  "vscode": {
   "interpreter": {
    "hash": "3f0eb11acfe3e06249e7251e3409fe423bd6100deff7dea7bdaf5bd627b68a86"
   }
  }
 },
 "nbformat": 4,
 "nbformat_minor": 2
}
